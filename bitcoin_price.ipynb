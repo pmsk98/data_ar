{
 "cells": [
  {
   "cell_type": "code",
   "execution_count": 1,
   "id": "5141cae5",
   "metadata": {},
   "outputs": [],
   "source": [
    "import pandas as pd  # version - 0.25.1\n",
    "import numpy as np  # version - 1.16.5\n",
    "import requests  # version - 2.22.0\n",
    "import pymongo  # version - 2.8.1\n",
    "import getpass\n",
    "\n",
    "\n",
    "def call_code():\n",
    "    # coin 종류 가져오기\n",
    "    url = 'https://api.upbit.com/v1/market/all'\n",
    "    response = requests.get(url)\n",
    "    datas = response.json()\n",
    "    # 데이터 프레임으로 변경\n",
    "    df = pd.DataFrame(datas)\n",
    "    # market 기준 한화로 변경\n",
    "    coins_krw = df[df['market'].str.startswith('KRW')].reset_index(drop=True)\n",
    "    return coins_krw\n",
    "\n",
    "\n"
   ]
  },
  {
   "cell_type": "code",
   "execution_count": 2,
   "id": "3a342857",
   "metadata": {},
   "outputs": [],
   "source": [
    "bitcoin_name =call_code()"
   ]
  },
  {
   "cell_type": "code",
   "execution_count": 3,
   "id": "53b58f9a",
   "metadata": {},
   "outputs": [
    {
     "data": {
      "text/html": [
       "<div>\n",
       "<style scoped>\n",
       "    .dataframe tbody tr th:only-of-type {\n",
       "        vertical-align: middle;\n",
       "    }\n",
       "\n",
       "    .dataframe tbody tr th {\n",
       "        vertical-align: top;\n",
       "    }\n",
       "\n",
       "    .dataframe thead th {\n",
       "        text-align: right;\n",
       "    }\n",
       "</style>\n",
       "<table border=\"1\" class=\"dataframe\">\n",
       "  <thead>\n",
       "    <tr style=\"text-align: right;\">\n",
       "      <th></th>\n",
       "      <th>market</th>\n",
       "      <th>korean_name</th>\n",
       "      <th>english_name</th>\n",
       "    </tr>\n",
       "  </thead>\n",
       "  <tbody>\n",
       "    <tr>\n",
       "      <th>0</th>\n",
       "      <td>KRW-BTC</td>\n",
       "      <td>비트코인</td>\n",
       "      <td>Bitcoin</td>\n",
       "    </tr>\n",
       "    <tr>\n",
       "      <th>1</th>\n",
       "      <td>KRW-ETH</td>\n",
       "      <td>이더리움</td>\n",
       "      <td>Ethereum</td>\n",
       "    </tr>\n",
       "    <tr>\n",
       "      <th>2</th>\n",
       "      <td>KRW-NEO</td>\n",
       "      <td>네오</td>\n",
       "      <td>NEO</td>\n",
       "    </tr>\n",
       "    <tr>\n",
       "      <th>3</th>\n",
       "      <td>KRW-MTL</td>\n",
       "      <td>메탈</td>\n",
       "      <td>Metal</td>\n",
       "    </tr>\n",
       "    <tr>\n",
       "      <th>4</th>\n",
       "      <td>KRW-LTC</td>\n",
       "      <td>라이트코인</td>\n",
       "      <td>Litecoin</td>\n",
       "    </tr>\n",
       "    <tr>\n",
       "      <th>...</th>\n",
       "      <td>...</td>\n",
       "      <td>...</td>\n",
       "      <td>...</td>\n",
       "    </tr>\n",
       "    <tr>\n",
       "      <th>112</th>\n",
       "      <td>KRW-PUNDIX</td>\n",
       "      <td>펀디엑스</td>\n",
       "      <td>Pundi X</td>\n",
       "    </tr>\n",
       "    <tr>\n",
       "      <th>113</th>\n",
       "      <td>KRW-FLOW</td>\n",
       "      <td>플로우</td>\n",
       "      <td>Flow</td>\n",
       "    </tr>\n",
       "    <tr>\n",
       "      <th>114</th>\n",
       "      <td>KRW-DAWN</td>\n",
       "      <td>던프로토콜</td>\n",
       "      <td>Dawn Protocol</td>\n",
       "    </tr>\n",
       "    <tr>\n",
       "      <th>115</th>\n",
       "      <td>KRW-AXS</td>\n",
       "      <td>엑시인피니티</td>\n",
       "      <td>Axie Infinity</td>\n",
       "    </tr>\n",
       "    <tr>\n",
       "      <th>116</th>\n",
       "      <td>KRW-STX</td>\n",
       "      <td>스택스</td>\n",
       "      <td>Stacks</td>\n",
       "    </tr>\n",
       "  </tbody>\n",
       "</table>\n",
       "<p>117 rows × 3 columns</p>\n",
       "</div>"
      ],
      "text/plain": [
       "         market korean_name   english_name\n",
       "0       KRW-BTC        비트코인        Bitcoin\n",
       "1       KRW-ETH        이더리움       Ethereum\n",
       "2       KRW-NEO          네오            NEO\n",
       "3       KRW-MTL          메탈          Metal\n",
       "4       KRW-LTC       라이트코인       Litecoin\n",
       "..          ...         ...            ...\n",
       "112  KRW-PUNDIX        펀디엑스        Pundi X\n",
       "113    KRW-FLOW         플로우           Flow\n",
       "114    KRW-DAWN       던프로토콜  Dawn Protocol\n",
       "115     KRW-AXS      엑시인피니티  Axie Infinity\n",
       "116     KRW-STX         스택스         Stacks\n",
       "\n",
       "[117 rows x 3 columns]"
      ]
     },
     "execution_count": 3,
     "metadata": {},
     "output_type": "execute_result"
    }
   ],
   "source": [
    "bitcoin_name"
   ]
  },
  {
   "cell_type": "code",
   "execution_count": 4,
   "id": "e4b93f51",
   "metadata": {},
   "outputs": [],
   "source": [
    "bitcoin_name.to_csv('bitcoin_name.csv',encoding='euc-kr')"
   ]
  },
  {
   "cell_type": "code",
   "execution_count": 8,
   "id": "a1ec1001",
   "metadata": {},
   "outputs": [
    {
     "ename": "SyntaxError",
     "evalue": "invalid syntax (<ipython-input-8-9ed08942c69f>, line 2)",
     "output_type": "error",
     "traceback": [
      "\u001b[0;36m  File \u001b[0;32m\"<ipython-input-8-9ed08942c69f>\"\u001b[0;36m, line \u001b[0;32m2\u001b[0m\n\u001b[0;31m    server = pymongo.MongoClient(''localhost',27017)')\u001b[0m\n\u001b[0m                                           ^\u001b[0m\n\u001b[0;31mSyntaxError\u001b[0m\u001b[0;31m:\u001b[0m invalid syntax\n"
     ]
    }
   ],
   "source": []
  },
  {
   "cell_type": "code",
   "execution_count": 35,
   "id": "067dfb12",
   "metadata": {},
   "outputs": [
    {
     "ename": "NameError",
     "evalue": "name 'code' is not defined",
     "output_type": "error",
     "traceback": [
      "\u001b[0;31m---------------------------------------------------------------------------\u001b[0m",
      "\u001b[0;31mNameError\u001b[0m                                 Traceback (most recent call last)",
      "\u001b[0;32m<ipython-input-35-fc0dec42bb5d>\u001b[0m in \u001b[0;36m<module>\u001b[0;34m\u001b[0m\n\u001b[1;32m      1\u001b[0m response = requests.get(\n\u001b[1;32m      2\u001b[0m     \u001b[0mf\u001b[0m\u001b[0;31m'\u001b[0m\u001b[0mhttps\u001b[0m\u001b[0;34m:\u001b[0m\u001b[0;34m//\u001b[0m\u001b[0mcrix\u001b[0m\u001b[0;34m-\u001b[0m\u001b[0mapi\u001b[0m\u001b[0;34m-\u001b[0m\u001b[0mcdn\u001b[0m\u001b[0;34m.\u001b[0m\u001b[0mupbit\u001b[0m\u001b[0;34m.\u001b[0m\u001b[0mcom\u001b[0m\u001b[0;34m/\u001b[0m\u001b[0mv1\u001b[0m\u001b[0;34m/\u001b[0m\u001b[0mcrix\u001b[0m\u001b[0;34m/\u001b[0m\u001b[0mcandles\u001b[0m\u001b[0;34m/\u001b[0m\u001b[0mdays\u001b[0m\u001b[0;31m?\u001b[0m\u001b[0;31m\\\u001b[0m\u001b[0;34m\u001b[0m\u001b[0;34m\u001b[0m\u001b[0m\n\u001b[0;32m----> 3\u001b[0;31m     code=CRIX.UPBIT.{code}&count={count}&ciqrandom=1582871221736')\n\u001b[0m\u001b[1;32m      4\u001b[0m \u001b[0mdatas\u001b[0m \u001b[0;34m=\u001b[0m \u001b[0mresponse\u001b[0m\u001b[0;34m.\u001b[0m\u001b[0mjson\u001b[0m\u001b[0;34m(\u001b[0m\u001b[0;34m)\u001b[0m\u001b[0;34m\u001b[0m\u001b[0;34m\u001b[0m\u001b[0m\n",
      "\u001b[0;31mNameError\u001b[0m: name 'code' is not defined"
     ]
    }
   ],
   "source": []
  }
 ],
 "metadata": {
  "kernelspec": {
   "display_name": "Python 3",
   "language": "python",
   "name": "python3"
  },
  "language_info": {
   "codemirror_mode": {
    "name": "ipython",
    "version": 3
   },
   "file_extension": ".py",
   "mimetype": "text/x-python",
   "name": "python",
   "nbconvert_exporter": "python",
   "pygments_lexer": "ipython3",
   "version": "3.6.9"
  }
 },
 "nbformat": 4,
 "nbformat_minor": 5
}
